{
 "cells": [
  {
   "cell_type": "code",
   "execution_count": 14,
   "metadata": {},
   "outputs": [],
   "source": [
    "import tensorflow as tf\n",
    "import os\n",
    "import pandas as pd\n",
    "\n",
    "PROJECT = 'qwiklabs-gcp-aebfb78fe0f1b1d1' # REPLACE WITH YOUR PROJECT ID\n",
    "BUCKET = 'sarah-bucket' # REPLACE WITH YOUR BUCKET NAME\n",
    "REGION = 'us-central1' # REPLACE WITH YOUR BUCKET REGION e.g. us-central1\n",
    "SEQ_LEN = '50'"
   ]
  },
  {
   "cell_type": "markdown",
   "metadata": {},
   "source": [
    "### Define the project, Bucket and Region and set them."
   ]
  },
  {
   "cell_type": "code",
   "execution_count": 15,
   "metadata": {},
   "outputs": [],
   "source": [
    "# for bash\n",
    "os.environ['PROJECT'] = PROJECT\n",
    "os.environ['BUCKET'] = BUCKET\n",
    "os.environ['REGION'] = REGION\n",
    "os.environ['TFVERSION'] = '1.8'  # Tensorflow version\n",
    "os.environ['SEQ_LEN'] = SEQ_LEN"
   ]
  },
  {
   "cell_type": "code",
   "execution_count": 16,
   "metadata": {},
   "outputs": [
    {
     "name": "stderr",
     "output_type": "stream",
     "text": [
      "Updated property [core/project].\n",
      "Updated property [compute/region].\n"
     ]
    }
   ],
   "source": [
    "%%bash\n",
    "gcloud config set project $PROJECT\n",
    "gcloud config set compute/region $REGION"
   ]
  },
  {
   "cell_type": "code",
   "execution_count": 17,
   "metadata": {},
   "outputs": [
    {
     "data": {
      "text/html": [
       "<div>\n",
       "<style scoped>\n",
       "    .dataframe tbody tr th:only-of-type {\n",
       "        vertical-align: middle;\n",
       "    }\n",
       "\n",
       "    .dataframe tbody tr th {\n",
       "        vertical-align: top;\n",
       "    }\n",
       "\n",
       "    .dataframe thead th {\n",
       "        text-align: right;\n",
       "    }\n",
       "</style>\n",
       "<table border=\"1\" class=\"dataframe\">\n",
       "  <thead>\n",
       "    <tr style=\"text-align: right;\">\n",
       "      <th></th>\n",
       "      <th>0</th>\n",
       "      <th>1</th>\n",
       "      <th>2</th>\n",
       "      <th>3</th>\n",
       "      <th>4</th>\n",
       "      <th>5</th>\n",
       "      <th>6</th>\n",
       "      <th>7</th>\n",
       "      <th>8</th>\n",
       "      <th>9</th>\n",
       "      <th>...</th>\n",
       "      <th>40</th>\n",
       "      <th>41</th>\n",
       "      <th>42</th>\n",
       "      <th>43</th>\n",
       "      <th>44</th>\n",
       "      <th>45</th>\n",
       "      <th>46</th>\n",
       "      <th>47</th>\n",
       "      <th>48</th>\n",
       "      <th>49</th>\n",
       "    </tr>\n",
       "  </thead>\n",
       "  <tbody>\n",
       "    <tr>\n",
       "      <th>0</th>\n",
       "      <td>0.948333</td>\n",
       "      <td>0.942500</td>\n",
       "      <td>0.912333</td>\n",
       "      <td>0.500000</td>\n",
       "      <td>0.781000</td>\n",
       "      <td>0.654167</td>\n",
       "      <td>0.808333</td>\n",
       "      <td>0.724833</td>\n",
       "      <td>0.992833</td>\n",
       "      <td>0.668833</td>\n",
       "      <td>...</td>\n",
       "      <td>0.658333</td>\n",
       "      <td>0.500000</td>\n",
       "      <td>1.085000</td>\n",
       "      <td>0.953333</td>\n",
       "      <td>0.500000</td>\n",
       "      <td>0.846000</td>\n",
       "      <td>0.784667</td>\n",
       "      <td>0.751667</td>\n",
       "      <td>0.247333</td>\n",
       "      <td>1.001667</td>\n",
       "    </tr>\n",
       "    <tr>\n",
       "      <th>1</th>\n",
       "      <td>0.942500</td>\n",
       "      <td>0.912333</td>\n",
       "      <td>0.500000</td>\n",
       "      <td>0.781000</td>\n",
       "      <td>0.654167</td>\n",
       "      <td>0.808333</td>\n",
       "      <td>0.724833</td>\n",
       "      <td>0.992833</td>\n",
       "      <td>0.668833</td>\n",
       "      <td>0.750000</td>\n",
       "      <td>...</td>\n",
       "      <td>0.500000</td>\n",
       "      <td>1.085000</td>\n",
       "      <td>0.953333</td>\n",
       "      <td>0.500000</td>\n",
       "      <td>0.846000</td>\n",
       "      <td>0.784667</td>\n",
       "      <td>0.751667</td>\n",
       "      <td>0.247333</td>\n",
       "      <td>1.001667</td>\n",
       "      <td>1.008333</td>\n",
       "    </tr>\n",
       "    <tr>\n",
       "      <th>2</th>\n",
       "      <td>0.912333</td>\n",
       "      <td>0.500000</td>\n",
       "      <td>0.781000</td>\n",
       "      <td>0.654167</td>\n",
       "      <td>0.808333</td>\n",
       "      <td>0.724833</td>\n",
       "      <td>0.992833</td>\n",
       "      <td>0.668833</td>\n",
       "      <td>0.750000</td>\n",
       "      <td>0.830833</td>\n",
       "      <td>...</td>\n",
       "      <td>1.085000</td>\n",
       "      <td>0.953333</td>\n",
       "      <td>0.500000</td>\n",
       "      <td>0.846000</td>\n",
       "      <td>0.784667</td>\n",
       "      <td>0.751667</td>\n",
       "      <td>0.247333</td>\n",
       "      <td>1.001667</td>\n",
       "      <td>1.008333</td>\n",
       "      <td>0.790500</td>\n",
       "    </tr>\n",
       "    <tr>\n",
       "      <th>3</th>\n",
       "      <td>0.500000</td>\n",
       "      <td>0.781000</td>\n",
       "      <td>0.654167</td>\n",
       "      <td>0.808333</td>\n",
       "      <td>0.724833</td>\n",
       "      <td>0.992833</td>\n",
       "      <td>0.668833</td>\n",
       "      <td>0.750000</td>\n",
       "      <td>0.830833</td>\n",
       "      <td>0.834500</td>\n",
       "      <td>...</td>\n",
       "      <td>0.953333</td>\n",
       "      <td>0.500000</td>\n",
       "      <td>0.846000</td>\n",
       "      <td>0.784667</td>\n",
       "      <td>0.751667</td>\n",
       "      <td>0.247333</td>\n",
       "      <td>1.001667</td>\n",
       "      <td>1.008333</td>\n",
       "      <td>0.790500</td>\n",
       "      <td>1.124667</td>\n",
       "    </tr>\n",
       "    <tr>\n",
       "      <th>4</th>\n",
       "      <td>0.781000</td>\n",
       "      <td>0.654167</td>\n",
       "      <td>0.808333</td>\n",
       "      <td>0.724833</td>\n",
       "      <td>0.992833</td>\n",
       "      <td>0.668833</td>\n",
       "      <td>0.750000</td>\n",
       "      <td>0.830833</td>\n",
       "      <td>0.834500</td>\n",
       "      <td>0.816667</td>\n",
       "      <td>...</td>\n",
       "      <td>0.500000</td>\n",
       "      <td>0.846000</td>\n",
       "      <td>0.784667</td>\n",
       "      <td>0.751667</td>\n",
       "      <td>0.247333</td>\n",
       "      <td>1.001667</td>\n",
       "      <td>1.008333</td>\n",
       "      <td>0.790500</td>\n",
       "      <td>1.124667</td>\n",
       "      <td>0.492167</td>\n",
       "    </tr>\n",
       "  </tbody>\n",
       "</table>\n",
       "<p>5 rows × 50 columns</p>\n",
       "</div>"
      ],
      "text/plain": [
       "         0         1         2         3         4         5         6   \\\n",
       "0  0.948333  0.942500  0.912333  0.500000  0.781000  0.654167  0.808333   \n",
       "1  0.942500  0.912333  0.500000  0.781000  0.654167  0.808333  0.724833   \n",
       "2  0.912333  0.500000  0.781000  0.654167  0.808333  0.724833  0.992833   \n",
       "3  0.500000  0.781000  0.654167  0.808333  0.724833  0.992833  0.668833   \n",
       "4  0.781000  0.654167  0.808333  0.724833  0.992833  0.668833  0.750000   \n",
       "\n",
       "         7         8         9     ...           40        41        42  \\\n",
       "0  0.724833  0.992833  0.668833    ...     0.658333  0.500000  1.085000   \n",
       "1  0.992833  0.668833  0.750000    ...     0.500000  1.085000  0.953333   \n",
       "2  0.668833  0.750000  0.830833    ...     1.085000  0.953333  0.500000   \n",
       "3  0.750000  0.830833  0.834500    ...     0.953333  0.500000  0.846000   \n",
       "4  0.830833  0.834500  0.816667    ...     0.500000  0.846000  0.784667   \n",
       "\n",
       "         43        44        45        46        47        48        49  \n",
       "0  0.953333  0.500000  0.846000  0.784667  0.751667  0.247333  1.001667  \n",
       "1  0.500000  0.846000  0.784667  0.751667  0.247333  1.001667  1.008333  \n",
       "2  0.846000  0.784667  0.751667  0.247333  1.001667  1.008333  0.790500  \n",
       "3  0.784667  0.751667  0.247333  1.001667  1.008333  0.790500  1.124667  \n",
       "4  0.751667  0.247333  1.001667  1.008333  0.790500  1.124667  0.492167  \n",
       "\n",
       "[5 rows x 50 columns]"
      ]
     },
     "execution_count": 17,
     "metadata": {},
     "output_type": "execute_result"
    }
   ],
   "source": [
    "df2 = pd.read_csv('data/CNN_W2P_model/train-1.csv', header = None)\n",
    "df2.head()"
   ]
  },
  {
   "cell_type": "code",
   "execution_count": 18,
   "metadata": {},
   "outputs": [
    {
     "data": {
      "text/html": [
       "<div>\n",
       "<style scoped>\n",
       "    .dataframe tbody tr th:only-of-type {\n",
       "        vertical-align: middle;\n",
       "    }\n",
       "\n",
       "    .dataframe tbody tr th {\n",
       "        vertical-align: top;\n",
       "    }\n",
       "\n",
       "    .dataframe thead th {\n",
       "        text-align: right;\n",
       "    }\n",
       "</style>\n",
       "<table border=\"1\" class=\"dataframe\">\n",
       "  <thead>\n",
       "    <tr style=\"text-align: right;\">\n",
       "      <th></th>\n",
       "      <th>0</th>\n",
       "      <th>1</th>\n",
       "      <th>2</th>\n",
       "      <th>3</th>\n",
       "      <th>4</th>\n",
       "      <th>5</th>\n",
       "      <th>6</th>\n",
       "      <th>7</th>\n",
       "      <th>8</th>\n",
       "      <th>9</th>\n",
       "      <th>...</th>\n",
       "      <th>40</th>\n",
       "      <th>41</th>\n",
       "      <th>42</th>\n",
       "      <th>43</th>\n",
       "      <th>44</th>\n",
       "      <th>45</th>\n",
       "      <th>46</th>\n",
       "      <th>47</th>\n",
       "      <th>48</th>\n",
       "      <th>49</th>\n",
       "    </tr>\n",
       "  </thead>\n",
       "  <tbody>\n",
       "    <tr>\n",
       "      <th>count</th>\n",
       "      <td>2638.000000</td>\n",
       "      <td>2638.000000</td>\n",
       "      <td>2638.000000</td>\n",
       "      <td>2638.000000</td>\n",
       "      <td>2638.000000</td>\n",
       "      <td>2638.000000</td>\n",
       "      <td>2638.000000</td>\n",
       "      <td>2638.000000</td>\n",
       "      <td>2638.000000</td>\n",
       "      <td>2638.000000</td>\n",
       "      <td>...</td>\n",
       "      <td>2638.000000</td>\n",
       "      <td>2638.000000</td>\n",
       "      <td>2638.000000</td>\n",
       "      <td>2638.000000</td>\n",
       "      <td>2638.000000</td>\n",
       "      <td>2638.000000</td>\n",
       "      <td>2638.000000</td>\n",
       "      <td>2638.000000</td>\n",
       "      <td>2638.000000</td>\n",
       "      <td>2638.000000</td>\n",
       "    </tr>\n",
       "    <tr>\n",
       "      <th>mean</th>\n",
       "      <td>0.827618</td>\n",
       "      <td>0.827851</td>\n",
       "      <td>0.827685</td>\n",
       "      <td>0.827717</td>\n",
       "      <td>0.827745</td>\n",
       "      <td>0.827840</td>\n",
       "      <td>0.827769</td>\n",
       "      <td>0.827687</td>\n",
       "      <td>0.827698</td>\n",
       "      <td>0.827717</td>\n",
       "      <td>...</td>\n",
       "      <td>0.829831</td>\n",
       "      <td>0.829818</td>\n",
       "      <td>0.829786</td>\n",
       "      <td>0.829823</td>\n",
       "      <td>0.829786</td>\n",
       "      <td>0.829683</td>\n",
       "      <td>0.829584</td>\n",
       "      <td>0.829590</td>\n",
       "      <td>0.829577</td>\n",
       "      <td>0.829446</td>\n",
       "    </tr>\n",
       "    <tr>\n",
       "      <th>std</th>\n",
       "      <td>0.217746</td>\n",
       "      <td>0.217454</td>\n",
       "      <td>0.217529</td>\n",
       "      <td>0.217534</td>\n",
       "      <td>0.217526</td>\n",
       "      <td>0.217463</td>\n",
       "      <td>0.217445</td>\n",
       "      <td>0.217395</td>\n",
       "      <td>0.217400</td>\n",
       "      <td>0.217403</td>\n",
       "      <td>...</td>\n",
       "      <td>0.215509</td>\n",
       "      <td>0.215509</td>\n",
       "      <td>0.215515</td>\n",
       "      <td>0.215481</td>\n",
       "      <td>0.215470</td>\n",
       "      <td>0.215397</td>\n",
       "      <td>0.215381</td>\n",
       "      <td>0.215381</td>\n",
       "      <td>0.215382</td>\n",
       "      <td>0.215333</td>\n",
       "    </tr>\n",
       "    <tr>\n",
       "      <th>min</th>\n",
       "      <td>0.066667</td>\n",
       "      <td>0.066667</td>\n",
       "      <td>0.066667</td>\n",
       "      <td>0.066667</td>\n",
       "      <td>0.066667</td>\n",
       "      <td>0.066667</td>\n",
       "      <td>0.066667</td>\n",
       "      <td>0.066667</td>\n",
       "      <td>0.066667</td>\n",
       "      <td>0.066667</td>\n",
       "      <td>...</td>\n",
       "      <td>0.066667</td>\n",
       "      <td>0.066667</td>\n",
       "      <td>0.066667</td>\n",
       "      <td>0.066667</td>\n",
       "      <td>0.066667</td>\n",
       "      <td>0.066667</td>\n",
       "      <td>0.066667</td>\n",
       "      <td>0.066667</td>\n",
       "      <td>0.066667</td>\n",
       "      <td>0.066667</td>\n",
       "    </tr>\n",
       "    <tr>\n",
       "      <th>25%</th>\n",
       "      <td>0.707250</td>\n",
       "      <td>0.707542</td>\n",
       "      <td>0.707250</td>\n",
       "      <td>0.707250</td>\n",
       "      <td>0.707250</td>\n",
       "      <td>0.707542</td>\n",
       "      <td>0.707542</td>\n",
       "      <td>0.707542</td>\n",
       "      <td>0.707542</td>\n",
       "      <td>0.707542</td>\n",
       "      <td>...</td>\n",
       "      <td>0.710625</td>\n",
       "      <td>0.710625</td>\n",
       "      <td>0.710625</td>\n",
       "      <td>0.710625</td>\n",
       "      <td>0.710625</td>\n",
       "      <td>0.710625</td>\n",
       "      <td>0.710625</td>\n",
       "      <td>0.710625</td>\n",
       "      <td>0.710625</td>\n",
       "      <td>0.710625</td>\n",
       "    </tr>\n",
       "    <tr>\n",
       "      <th>50%</th>\n",
       "      <td>0.842167</td>\n",
       "      <td>0.842833</td>\n",
       "      <td>0.842167</td>\n",
       "      <td>0.842833</td>\n",
       "      <td>0.842833</td>\n",
       "      <td>0.842833</td>\n",
       "      <td>0.842167</td>\n",
       "      <td>0.842167</td>\n",
       "      <td>0.842167</td>\n",
       "      <td>0.842833</td>\n",
       "      <td>...</td>\n",
       "      <td>0.844917</td>\n",
       "      <td>0.844833</td>\n",
       "      <td>0.844833</td>\n",
       "      <td>0.844833</td>\n",
       "      <td>0.844833</td>\n",
       "      <td>0.844833</td>\n",
       "      <td>0.844167</td>\n",
       "      <td>0.844833</td>\n",
       "      <td>0.844833</td>\n",
       "      <td>0.844167</td>\n",
       "    </tr>\n",
       "    <tr>\n",
       "      <th>75%</th>\n",
       "      <td>0.995667</td>\n",
       "      <td>0.995667</td>\n",
       "      <td>0.995667</td>\n",
       "      <td>0.995667</td>\n",
       "      <td>0.995667</td>\n",
       "      <td>0.995667</td>\n",
       "      <td>0.995667</td>\n",
       "      <td>0.995125</td>\n",
       "      <td>0.995125</td>\n",
       "      <td>0.995125</td>\n",
       "      <td>...</td>\n",
       "      <td>0.995000</td>\n",
       "      <td>0.995000</td>\n",
       "      <td>0.995000</td>\n",
       "      <td>0.995000</td>\n",
       "      <td>0.995000</td>\n",
       "      <td>0.994958</td>\n",
       "      <td>0.994833</td>\n",
       "      <td>0.994833</td>\n",
       "      <td>0.994833</td>\n",
       "      <td>0.994833</td>\n",
       "    </tr>\n",
       "    <tr>\n",
       "      <th>max</th>\n",
       "      <td>1.417500</td>\n",
       "      <td>1.417500</td>\n",
       "      <td>1.417500</td>\n",
       "      <td>1.417500</td>\n",
       "      <td>1.417500</td>\n",
       "      <td>1.417500</td>\n",
       "      <td>1.417500</td>\n",
       "      <td>1.417500</td>\n",
       "      <td>1.417500</td>\n",
       "      <td>1.417500</td>\n",
       "      <td>...</td>\n",
       "      <td>1.417500</td>\n",
       "      <td>1.417500</td>\n",
       "      <td>1.417500</td>\n",
       "      <td>1.417500</td>\n",
       "      <td>1.417500</td>\n",
       "      <td>1.417500</td>\n",
       "      <td>1.417500</td>\n",
       "      <td>1.417500</td>\n",
       "      <td>1.417500</td>\n",
       "      <td>1.417500</td>\n",
       "    </tr>\n",
       "  </tbody>\n",
       "</table>\n",
       "<p>8 rows × 50 columns</p>\n",
       "</div>"
      ],
      "text/plain": [
       "                0            1            2            3            4   \\\n",
       "count  2638.000000  2638.000000  2638.000000  2638.000000  2638.000000   \n",
       "mean      0.827618     0.827851     0.827685     0.827717     0.827745   \n",
       "std       0.217746     0.217454     0.217529     0.217534     0.217526   \n",
       "min       0.066667     0.066667     0.066667     0.066667     0.066667   \n",
       "25%       0.707250     0.707542     0.707250     0.707250     0.707250   \n",
       "50%       0.842167     0.842833     0.842167     0.842833     0.842833   \n",
       "75%       0.995667     0.995667     0.995667     0.995667     0.995667   \n",
       "max       1.417500     1.417500     1.417500     1.417500     1.417500   \n",
       "\n",
       "                5            6            7            8            9   \\\n",
       "count  2638.000000  2638.000000  2638.000000  2638.000000  2638.000000   \n",
       "mean      0.827840     0.827769     0.827687     0.827698     0.827717   \n",
       "std       0.217463     0.217445     0.217395     0.217400     0.217403   \n",
       "min       0.066667     0.066667     0.066667     0.066667     0.066667   \n",
       "25%       0.707542     0.707542     0.707542     0.707542     0.707542   \n",
       "50%       0.842833     0.842167     0.842167     0.842167     0.842833   \n",
       "75%       0.995667     0.995667     0.995125     0.995125     0.995125   \n",
       "max       1.417500     1.417500     1.417500     1.417500     1.417500   \n",
       "\n",
       "          ...                40           41           42           43  \\\n",
       "count     ...       2638.000000  2638.000000  2638.000000  2638.000000   \n",
       "mean      ...          0.829831     0.829818     0.829786     0.829823   \n",
       "std       ...          0.215509     0.215509     0.215515     0.215481   \n",
       "min       ...          0.066667     0.066667     0.066667     0.066667   \n",
       "25%       ...          0.710625     0.710625     0.710625     0.710625   \n",
       "50%       ...          0.844917     0.844833     0.844833     0.844833   \n",
       "75%       ...          0.995000     0.995000     0.995000     0.995000   \n",
       "max       ...          1.417500     1.417500     1.417500     1.417500   \n",
       "\n",
       "                44           45           46           47           48  \\\n",
       "count  2638.000000  2638.000000  2638.000000  2638.000000  2638.000000   \n",
       "mean      0.829786     0.829683     0.829584     0.829590     0.829577   \n",
       "std       0.215470     0.215397     0.215381     0.215381     0.215382   \n",
       "min       0.066667     0.066667     0.066667     0.066667     0.066667   \n",
       "25%       0.710625     0.710625     0.710625     0.710625     0.710625   \n",
       "50%       0.844833     0.844833     0.844167     0.844833     0.844833   \n",
       "75%       0.995000     0.994958     0.994833     0.994833     0.994833   \n",
       "max       1.417500     1.417500     1.417500     1.417500     1.417500   \n",
       "\n",
       "                49  \n",
       "count  2638.000000  \n",
       "mean      0.829446  \n",
       "std       0.215333  \n",
       "min       0.066667  \n",
       "25%       0.710625  \n",
       "50%       0.844167  \n",
       "75%       0.994833  \n",
       "max       1.417500  \n",
       "\n",
       "[8 rows x 50 columns]"
      ]
     },
     "execution_count": 18,
     "metadata": {},
     "output_type": "execute_result"
    }
   ],
   "source": [
    "df2 = pd.read_csv('data/CNN_W2P_model/valid-1.csv', header = None) #, names = CSV_COLUMNS)\n",
    "df2.describe()"
   ]
  },
  {
   "cell_type": "markdown",
   "metadata": {},
   "source": [
    "### Make sure the data is out in the bucket to train the hyperparameters on."
   ]
  },
  {
   "cell_type": "code",
   "execution_count": 22,
   "metadata": {},
   "outputs": [
    {
     "name": "stdout",
     "output_type": "stream",
     "text": [
      "\n",
      "\n",
      "Updates are available for some Cloud SDK components.  To install them,\n",
      "please run:\n",
      "  $ gcloud components update\n",
      "\n",
      "Copying file:///content/datalab/energy_forcasing/Sarah/data/CNN_W2P_model/valid-1.csv [Content-Type=text/csv]...\n",
      "/ [1 files][  1.5 MiB/  1.5 MiB]                                                \n",
      "Operation completed over 1 objects/1.5 MiB.                                      \n",
      "Copying file:///content/datalab/energy_forcasing/Sarah/data/CNN_W2P_model/train-1.csv [Content-Type=text/csv]...\n",
      "/ [1 files][  2.3 MiB/  2.3 MiB]                                                \n",
      "Operation completed over 1 objects/2.3 MiB.                                      \n"
     ]
    }
   ],
   "source": [
    "!gsutil cp -p /content/datalab/energy_forcasing/Sarah/data/CNN_W2P_model/valid-1.csv gs://sarah-bucket/CNN_W2P_model/valid-1.csv\n",
    "!gsutil cp -p /content/datalab/energy_forcasing/Sarah/data/CNN_W2P_model/train-1.csv gs://sarah-bucket/CNN_W2P_model/train-1.csv"
   ]
  },
  {
   "cell_type": "markdown",
   "metadata": {},
   "source": [
    "# Build a yaml"
   ]
  },
  {
   "cell_type": "code",
   "execution_count": 24,
   "metadata": {},
   "outputs": [
    {
     "name": "stdout",
     "output_type": "stream",
     "text": [
      "/content/datalab/energy_forcasing/Sarah\r\n"
     ]
    }
   ],
   "source": [
    "!pwd"
   ]
  },
  {
   "cell_type": "code",
   "execution_count": 26,
   "metadata": {},
   "outputs": [
    {
     "name": "stdout",
     "output_type": "stream",
     "text": [
      "Overwriting hyperparam.yaml\n"
     ]
    }
   ],
   "source": [
    "%%writefile  hyperparam.yaml\n",
    "trainingInput:\n",
    "  hyperparameters:\n",
    "    goal: MINIMIZE\n",
    "    maxTrials: 50\n",
    "    maxParallelTrials: 5\n",
    "    hyperparameterMetricTag: rmse\n",
    "    params:\n",
    "    - parameterName: learning_rate\n",
    "      type: DOUBLE\n",
    "      minValue: 0.01\n",
    "      maxValue: 0.1\n",
    "      scaleType: UNIT_LOG_SCALE\n",
    "    - parameterName: train_batch_size\n",
    "      type: INTEGER\n",
    "      minValue: 8\n",
    "      maxValue: 512\n",
    "      scaleType: UNIT_LINEAR_SCALE"
   ]
  },
  {
   "cell_type": "code",
   "execution_count": 27,
   "metadata": {},
   "outputs": [
    {
     "name": "stdout",
     "output_type": "stream",
     "text": [
      "CNN_W2P_model_dnn180925_164529\n",
      "jobId: CNN_W2P_model_dnn180925_164529\n",
      "state: QUEUED\n"
     ]
    },
    {
     "name": "stderr",
     "output_type": "stream",
     "text": [
      "Job [CNN_W2P_model_dnn180925_164529] submitted successfully.\n",
      "Your job is still active. You may view the status of your job with the command\n",
      "\n",
      "  $ gcloud ml-engine jobs describe CNN_W2P_model_dnn180925_164529\n",
      "\n",
      "or continue streaming the logs with the command\n",
      "\n",
      "  $ gcloud ml-engine jobs stream-logs CNN_W2P_model_dnn180925_164529\n",
      "bash: line 22: syntax error near unexpected token `done'\n",
      "bash: line 22: `done'\n"
     ]
    }
   ],
   "source": [
    "%%bash\n",
    "\n",
    "MODEL=dnn\n",
    "OUTDIR=gs://${BUCKET}/CNN_W2P_model/${MODEL}\n",
    "JOBNAME=CNN_W2P_model_${MODEL}$(date -u +%y%m%d_%H%M%S)\n",
    "\n",
    "#gsutil -m rm -rf $OUTDIR\n",
    "echo $JOBNAME\n",
    "\n",
    "gcloud ml-engine jobs submit training $JOBNAME \\\n",
    "     --region=$REGION \\\n",
    "     --module-name=trainer.task \\\n",
    "     --package-path=${PWD}/CNN_W2P_model/trainer \\\n",
    "     --job-dir=$OUTDIR \\\n",
    "     --scale-tier=PREMIUM_1 \\\n",
    "     --runtime-version=$TFVERSION \\\n",
    "     --config=hyperparam.yaml \\\n",
    "     -- \\\n",
    "     --train_data_path=\"gs://${BUCKET}/CNN_W2P_model/train-1.csv\" \\\n",
    "     --eval_data_path=\"gs://${BUCKET}/CNN_W2P_model/valid-1.csv\"  \\\n",
    "     --output_dir=$OUTDIR \\\n",
    "     --train_steps=5000 --sequence_length=$SEQ_LEN --model=$MODEL\n",
    "done"
   ]
  },
  {
   "cell_type": "code",
   "execution_count": 28,
   "metadata": {},
   "outputs": [
    {
     "name": "stdout",
     "output_type": "stream",
     "text": [
      "createTime: '2018-09-25T16:45:33Z'\n",
      "etag: 5mQj5SRVH0Y=\n",
      "jobId: CNN_W2P_model_dnn180925_164529\n",
      "startTime: '2018-09-25T16:45:38Z'\n",
      "state: RUNNING\n",
      "trainingInput:\n",
      "  args:\n",
      "  - --train_data_path=gs://sarah-bucket/CNN_W2P_model/train-1.csv\n",
      "  - --eval_data_path=gs://sarah-bucket/CNN_W2P_model/valid-1.csv\n",
      "  - --output_dir=gs://sarah-bucket/CNN_W2P_model/dnn\n",
      "  - --train_steps=5000\n",
      "  - --sequence_length=50\n",
      "  - --model=dnn\n",
      "  hyperparameters:\n",
      "    goal: MINIMIZE\n",
      "    hyperparameterMetricTag: rmse\n",
      "    maxParallelTrials: 5\n",
      "    maxTrials: 50\n",
      "    params:\n",
      "    - maxValue: 0.1\n",
      "      minValue: 0.01\n",
      "      parameterName: learning_rate\n",
      "      scaleType: UNIT_LOG_SCALE\n",
      "      type: DOUBLE\n",
      "    - maxValue: 512.0\n",
      "      minValue: 8.0\n",
      "      parameterName: train_batch_size\n",
      "      scaleType: UNIT_LINEAR_SCALE\n",
      "      type: INTEGER\n",
      "  jobDir: gs://sarah-bucket/CNN_W2P_model/dnn\n",
      "  packageUris:\n",
      "  - gs://sarah-bucket/CNN_W2P_model/dnn/packages/5beb883e1be7b4b4965a8d0ef5473f56b79d12d9f31e88f154fd0e06adebcb7b/trainer-0.0.0.tar.gz\n",
      "  pythonModule: trainer.task\n",
      "  region: us-central1\n",
      "  runtimeVersion: '1.8'\n",
      "  scaleTier: PREMIUM_1\n",
      "trainingOutput:\n",
      "  isHyperparameterTuningJob: true\n",
      "\n",
      "View job in the Cloud Console at:\n",
      "https://console.cloud.google.com/ml/jobs/CNN_W2P_model_dnn180925_164529?project=qwiklabs-gcp-aebfb78fe0f1b1d1\n",
      "\n",
      "View logs at:\n",
      "https://console.cloud.google.com/logs?resource=ml.googleapis.com%2Fjob_id%2FCNN_W2P_model_dnn180925_164529&project=qwiklabs-gcp-aebfb78fe0f1b1d1\n"
     ]
    }
   ],
   "source": [
    "!gcloud ml-engine jobs describe CNN_W2P_model_dnn180925_164529"
   ]
  },
  {
   "cell_type": "code",
   "execution_count": 30,
   "metadata": {},
   "outputs": [
    {
     "data": {
      "text/html": [
       "<p>TensorBoard was started successfully with pid 6993. Click <a href=\"/_proxy/55403/\" target=\"_blank\">here</a> to access it.</p>"
      ]
     },
     "metadata": {},
     "output_type": "display_data"
    },
    {
     "data": {
      "text/plain": [
       "6993"
      ]
     },
     "execution_count": 30,
     "metadata": {},
     "output_type": "execute_result"
    }
   ],
   "source": [
    "from google.datalab.ml import TensorBoard\n",
    "TensorBoard().start('CNN_W2P_model'.format(BUCKET))"
   ]
  },
  {
   "cell_type": "code",
   "execution_count": 29,
   "metadata": {},
   "outputs": [
    {
     "ename": "NameError",
     "evalue": "name 'TensorBoard' is not defined",
     "output_type": "error",
     "traceback": [
      "\u001b[0;31m\u001b[0m",
      "\u001b[0;31mNameError\u001b[0mTraceback (most recent call last)",
      "\u001b[0;32m<ipython-input-29-188271a630b4>\u001b[0m in \u001b[0;36m<module>\u001b[0;34m()\u001b[0m\n\u001b[0;32m----> 1\u001b[0;31m \u001b[0;32mfor\u001b[0m \u001b[0mpid\u001b[0m \u001b[0;32min\u001b[0m \u001b[0mTensorBoard\u001b[0m\u001b[0;34m.\u001b[0m\u001b[0mlist\u001b[0m\u001b[0;34m(\u001b[0m\u001b[0;34m)\u001b[0m\u001b[0;34m[\u001b[0m\u001b[0;34m'pid'\u001b[0m\u001b[0;34m]\u001b[0m\u001b[0;34m:\u001b[0m\u001b[0;34m\u001b[0m\u001b[0m\n\u001b[0m\u001b[1;32m      2\u001b[0m   \u001b[0mTensorBoard\u001b[0m\u001b[0;34m(\u001b[0m\u001b[0;34m)\u001b[0m\u001b[0;34m.\u001b[0m\u001b[0mstop\u001b[0m\u001b[0;34m(\u001b[0m\u001b[0mpid\u001b[0m\u001b[0;34m)\u001b[0m\u001b[0;34m\u001b[0m\u001b[0m\n\u001b[1;32m      3\u001b[0m   \u001b[0;32mprint\u001b[0m \u001b[0;34m'Stopped TensorBoard with pid {}'\u001b[0m\u001b[0;34m.\u001b[0m\u001b[0mformat\u001b[0m\u001b[0;34m(\u001b[0m\u001b[0mpid\u001b[0m\u001b[0;34m)\u001b[0m\u001b[0;34m\u001b[0m\u001b[0m\n",
      "\u001b[0;31mNameError\u001b[0m: name 'TensorBoard' is not defined"
     ]
    }
   ],
   "source": [
    "for pid in TensorBoard.list()['pid']:\n",
    "  TensorBoard().stop(pid)\n",
    "  print 'Stopped TensorBoard with pid {}'.format(pid)"
   ]
  },
  {
   "cell_type": "code",
   "execution_count": null,
   "metadata": {},
   "outputs": [],
   "source": [
    "## command line access of the TB\n",
    "print('tensorboard --logdir=gs://{}/CNN_W2P_model --port=8083'.format(BUCKET))"
   ]
  },
  {
   "cell_type": "markdown",
   "metadata": {},
   "source": [
    "## Deploy the model"
   ]
  },
  {
   "cell_type": "markdown",
   "metadata": {},
   "source": [
    "### Convert the data into something that can be read into the model, so strings that are 49 long where the 50th price is perdicted."
   ]
  },
  {
   "cell_type": "code",
   "execution_count": 65,
   "metadata": {},
   "outputs": [
    {
     "name": "stdout",
     "output_type": "stream",
     "text": [
      "gs://sarah-bucket/CNN_W2P_model/dnn/export/exporter/\n",
      "gs://sarah-bucket/CNN_W2P_model/dnn/export/exporter/1537556449/\n"
     ]
    }
   ],
   "source": [
    "%bash\n",
    "gsutil ls gs://${BUCKET}/CNN_W2P_model/dnn/export/exporter/"
   ]
  },
  {
   "cell_type": "code",
   "execution_count": 85,
   "metadata": {},
   "outputs": [
    {
     "name": "stdout",
     "output_type": "stream",
     "text": [
      "Deleting and deploying CNN_W2P_model ml_on_gcp from gs://sarah-bucket/CNN_W2P_model/dnn/export/exporter/1537556449/ ... this will take a few minutes\n"
     ]
    },
    {
     "name": "stderr",
     "output_type": "stream",
     "text": [
      "Created ml engine model [projects/qwiklabs-gcp-aebfb78fe0f1b1d1/models/CNN_W2P_model].\n",
      "Creating version (this might take a few minutes)......\n",
      "............................................................................................done.\n"
     ]
    }
   ],
   "source": [
    "%bash\n",
    "MODEL_NAME=\"CNN_W2P_model\"\n",
    "MODEL_VERSION=\"ml_on_gcp\"\n",
    "MODEL_LOCATION=$(gsutil ls gs://${BUCKET}/CNN_W2P_model/dnn/export/exporter/ | tail -1)\n",
    "echo \"Deleting and deploying $MODEL_NAME $MODEL_VERSION from $MODEL_LOCATION ... this will take a few minutes\"\n",
    "#gcloud ml-engine versions delete ${MODEL_VERSION} --model ${MODEL_NAME}\n",
    "#gcloud ml-engine models delete ${MODEL_NAME}\n",
    "gcloud ml-engine models create ${MODEL_NAME} --regions $REGION\n",
    "gcloud ml-engine versions create ${MODEL_VERSION} --model ${MODEL_NAME} --origin ${MODEL_LOCATION} --runtime-version $TFVERSION"
   ]
  },
  {
   "cell_type": "markdown",
   "metadata": {},
   "source": [
    "Make data to feed to model"
   ]
  },
  {
   "cell_type": "code",
   "execution_count": 88,
   "metadata": {},
   "outputs": [],
   "source": [
    "def to_model_csv(filename, N, J):\n",
    "  with open(filename, 'w') as ofp:\n",
    "    N = df5.shape[0] - J\n",
    "    for ii in xrange(0, N):\n",
    "      seq = df5.price[(0+ii):(J+ii)]\n",
    "      line = \",\".join(map(str, seq))\n",
    "      ofp.write(line + '\\n')\n",
    "      #print(len(seq))\n",
    "      if len(seq) != J:\n",
    "        break\n",
    "\n",
    "import os\n",
    "try:\n",
    "  os.makedirs('data/CNN_W2P_model/')\n",
    "except OSError:\n",
    "  pass\n",
    "\n",
    "to_model_csv('data/CNN_W2P_model/to_model.csv', N = 1000, J = 49) \n"
   ]
  },
  {
   "cell_type": "code",
   "execution_count": 89,
   "metadata": {},
   "outputs": [
    {
     "data": {
      "text/plain": [
       "(6597, 49)"
      ]
     },
     "execution_count": 89,
     "metadata": {},
     "output_type": "execute_result"
    }
   ],
   "source": [
    "model_data = pd.read_csv('/content/datalab/energy_forcasing/Sarah/data/CNN_W2P_model/to_model.csv', header = None)\n",
    "model_data.shape"
   ]
  },
  {
   "cell_type": "code",
   "execution_count": 92,
   "metadata": {},
   "outputs": [],
   "source": [
    "from oauth2client.client import GoogleCredentials\n",
    "import requests\n",
    "import json\n",
    "\n",
    "MODEL_NAME=\"CNN_W2P_model_dnn\"\n",
    "MODEL_VERSION=\"ml_on_gcp\"\n",
    "\n",
    "token = GoogleCredentials.get_application_default().get_access_token().access_token\n",
    "api = 'https://ml.googleapis.com/v1/projects/{}/models/{}/versions/{}:predict' \\\n",
    "         .format(PROJECT, MODEL_NAME, MODEL_VERSION)\n",
    "headers = {'Authorization': 'Bearer ' + token }\n",
    "data = {\n",
    "  'instances': [\n",
    "    {\n",
    "      'price': prices\n",
    "    },\n",
    "  ]\n",
    "}"
   ]
  },
  {
   "cell_type": "code",
   "execution_count": 93,
   "metadata": {},
   "outputs": [],
   "source": [
    "## 55.11,62.0,46.79,44.0,44.0,44.86,60.89,58.69,36.49,57.69,51.2,48.79,48.35,42.2,46.37,62.5,62.5,54.0,52.54,62.18,48.5,55.35,52.0,40.97,42.6,64.1,61.59,48.9,37.4,45.93,37.3,65.48,62.5,65.03,57.07,23.35,54.56,28.02,39.84,51.0,42.46,47.02,37.1,38.0,38.0,60.99,50.01,19.52,39.98,47.96"
   ]
  },
  {
   "cell_type": "markdown",
   "metadata": {},
   "source": [
    "This will take a few minutes."
   ]
  },
  {
   "cell_type": "code",
   "execution_count": 94,
   "metadata": {},
   "outputs": [
    {
     "name": "stdout",
     "output_type": "stream",
     "text": [
      "{u'error': {u'status': u'NOT_FOUND', u'message': u'Field: name Error: The model resource: \"CNN_W2P_model_dnn\" was not found. Please create the Cloud ML model resource first by using \\'gcloud ml-engine models create CNN_W2P_model_dnn\\'.', u'code': 404, u'details': [{u'fieldViolations': [{u'field': u'name', u'description': u'The model resource: \"CNN_W2P_model_dnn\" was not found. Please create the Cloud ML model resource first by using \\'gcloud ml-engine models create CNN_W2P_model_dnn\\'.'}], u'@type': u'type.googleapis.com/google.rpc.BadRequest'}]}}\n",
      "{u'error': {u'status': u'NOT_FOUND', u'message': u'Field: name Error: The model resource: \"CNN_W2P_model_dnn\" was not found. Please create the Cloud ML model resource first by using \\'gcloud ml-engine models create CNN_W2P_model_dnn\\'.', u'code': 404, u'details': [{u'fieldViolations': [{u'field': u'name', u'description': u'The model resource: \"CNN_W2P_model_dnn\" was not found. Please create the Cloud ML model resource first by using \\'gcloud ml-engine models create CNN_W2P_model_dnn\\'.'}], u'@type': u'type.googleapis.com/google.rpc.BadRequest'}]}}\n",
      "{u'error': {u'status': u'NOT_FOUND', u'message': u'Field: name Error: The model resource: \"CNN_W2P_model_dnn\" was not found. Please create the Cloud ML model resource first by using \\'gcloud ml-engine models create CNN_W2P_model_dnn\\'.', u'code': 404, u'details': [{u'fieldViolations': [{u'field': u'name', u'description': u'The model resource: \"CNN_W2P_model_dnn\" was not found. Please create the Cloud ML model resource first by using \\'gcloud ml-engine models create CNN_W2P_model_dnn\\'.'}], u'@type': u'type.googleapis.com/google.rpc.BadRequest'}]}}\n",
      "{u'error': {u'status': u'NOT_FOUND', u'message': u'Field: name Error: The model resource: \"CNN_W2P_model_dnn\" was not found. Please create the Cloud ML model resource first by using \\'gcloud ml-engine models create CNN_W2P_model_dnn\\'.', u'code': 404, u'details': [{u'fieldViolations': [{u'field': u'name', u'description': u'The model resource: \"CNN_W2P_model_dnn\" was not found. Please create the Cloud ML model resource first by using \\'gcloud ml-engine models create CNN_W2P_model_dnn\\'.'}], u'@type': u'type.googleapis.com/google.rpc.BadRequest'}]}}\n",
      "{u'error': {u'status': u'NOT_FOUND', u'message': u'Field: name Error: The model resource: \"CNN_W2P_model_dnn\" was not found. Please create the Cloud ML model resource first by using \\'gcloud ml-engine models create CNN_W2P_model_dnn\\'.', u'code': 404, u'details': [{u'fieldViolations': [{u'field': u'name', u'description': u'The model resource: \"CNN_W2P_model_dnn\" was not found. Please create the Cloud ML model resource first by using \\'gcloud ml-engine models create CNN_W2P_model_dnn\\'.'}], u'@type': u'type.googleapis.com/google.rpc.BadRequest'}]}}\n",
      "{u'error': {u'status': u'NOT_FOUND', u'message': u'Field: name Error: The model resource: \"CNN_W2P_model_dnn\" was not found. Please create the Cloud ML model resource first by using \\'gcloud ml-engine models create CNN_W2P_model_dnn\\'.', u'code': 404, u'details': [{u'fieldViolations': [{u'field': u'name', u'description': u'The model resource: \"CNN_W2P_model_dnn\" was not found. Please create the Cloud ML model resource first by using \\'gcloud ml-engine models create CNN_W2P_model_dnn\\'.'}], u'@type': u'type.googleapis.com/google.rpc.BadRequest'}]}}\n",
      "{u'error': {u'status': u'NOT_FOUND', u'message': u'Field: name Error: The model resource: \"CNN_W2P_model_dnn\" was not found. Please create the Cloud ML model resource first by using \\'gcloud ml-engine models create CNN_W2P_model_dnn\\'.', u'code': 404, u'details': [{u'fieldViolations': [{u'field': u'name', u'description': u'The model resource: \"CNN_W2P_model_dnn\" was not found. Please create the Cloud ML model resource first by using \\'gcloud ml-engine models create CNN_W2P_model_dnn\\'.'}], u'@type': u'type.googleapis.com/google.rpc.BadRequest'}]}}\n",
      "{u'error': {u'status': u'NOT_FOUND', u'message': u'Field: name Error: The model resource: \"CNN_W2P_model_dnn\" was not found. Please create the Cloud ML model resource first by using \\'gcloud ml-engine models create CNN_W2P_model_dnn\\'.', u'code': 404, u'details': [{u'fieldViolations': [{u'field': u'name', u'description': u'The model resource: \"CNN_W2P_model_dnn\" was not found. Please create the Cloud ML model resource first by using \\'gcloud ml-engine models create CNN_W2P_model_dnn\\'.'}], u'@type': u'type.googleapis.com/google.rpc.BadRequest'}]}}\n",
      "{u'error': {u'status': u'NOT_FOUND', u'message': u'Field: name Error: The model resource: \"CNN_W2P_model_dnn\" was not found. Please create the Cloud ML model resource first by using \\'gcloud ml-engine models create CNN_W2P_model_dnn\\'.', u'code': 404, u'details': [{u'fieldViolations': [{u'field': u'name', u'description': u'The model resource: \"CNN_W2P_model_dnn\" was not found. Please create the Cloud ML model resource first by using \\'gcloud ml-engine models create CNN_W2P_model_dnn\\'.'}], u'@type': u'type.googleapis.com/google.rpc.BadRequest'}]}}\n"
     ]
    }
   ],
   "source": [
    "#result = []\n",
    "for y in range(1,10):#model_data.shape[0]):\n",
    "    raw_prices = model_data.iloc[y]\n",
    "    prices = [float(price) for price in raw_prices]\n",
    "    #print prices\n",
    "    data = {\n",
    "      'instances': [\n",
    "        {\n",
    "          'price': prices\n",
    "        },\n",
    "      ]\n",
    "    }\n",
    "    #print(data)\n",
    "    response = requests.post(api, json=data, headers=headers)\n",
    "    #print y/model_data.shape[0]\n",
    "    forecast = response.json()##['predictions'][0]['predicted'][0] ## (df5.price[(nn):(nn+J)])/60\n",
    "    print (forecast)\n",
    "    #result.append(response.content[32:-4])"
   ]
  },
  {
   "cell_type": "code",
   "execution_count": null,
   "metadata": {},
   "outputs": [],
   "source": [
    "print result"
   ]
  },
  {
   "cell_type": "code",
   "execution_count": null,
   "metadata": {},
   "outputs": [],
   "source": [
    "!pwd\n",
    "!ls"
   ]
  },
  {
   "cell_type": "code",
   "execution_count": null,
   "metadata": {},
   "outputs": [],
   "source": [
    "%%writefile  hyperparam.yaml\n",
    "trainingInput:\n",
    "  hyperparameters:\n",
    "    goal: MINIMIZE\n",
    "    maxTrials: 5\n",
    "    maxParallelTrials: 1\n",
    "    hyperparameterMetricTag: rmse\n",
    "    params:\n",
    "    - parameterName: learning_rate\n",
    "      type: DOUBLE\n",
    "      minValue: 0.01\n",
    "      maxValue: 0.1\n",
    "      scaleType: UNIT_LOG_SCALE"
   ]
  }
 ],
 "metadata": {
  "kernelspec": {
   "display_name": "Python 2",
   "language": "python",
   "name": "python2"
  },
  "language_info": {
   "codemirror_mode": {
    "name": "ipython",
    "version": 2
   },
   "file_extension": ".py",
   "mimetype": "text/x-python",
   "name": "python",
   "nbconvert_exporter": "python",
   "pygments_lexer": "ipython2",
   "version": "2.7.15"
  }
 },
 "nbformat": 4,
 "nbformat_minor": 2
}
