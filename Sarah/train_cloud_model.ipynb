{
 "cells": [
  {
   "cell_type": "code",
   "execution_count": null,
   "metadata": {},
   "outputs": [],
   "source": [
    "# !pip install --upgrade google-api-python-client"
   ]
  },
  {
   "cell_type": "code",
   "execution_count": 2,
   "metadata": {},
   "outputs": [
    {
     "name": "stderr",
     "output_type": "stream",
     "text": [
      "/usr/local/envs/py3env/lib/python3.5/site-packages/h5py/__init__.py:36: FutureWarning: Conversion of the second argument of issubdtype from `float` to `np.floating` is deprecated. In future, it will be treated as `np.float64 == np.dtype(float).type`.\n",
      "  from ._conv import register_converters as _register_converters\n"
     ]
    }
   ],
   "source": [
    "import tensorflow as tf\n",
    "import os\n",
    "import pandas as pd\n",
    "import numpy as np\n",
    "import math \n",
    "\n",
    "PROJECT = 'qwiklabs-gcp-aebfb78fe0f1b1d1' # REPLACE WITH YOUR PROJECT ID\n",
    "BUCKET = 'sarah-bucket' # REPLACE WITH YOUR BUCKET NAME\n",
    "REGION = 'us-central1' # REPLACE WITH YOUR BUCKET REGION e.g. us-central1\n",
    "os.environ['TFVERSION'] = '1.7'  # Tensorflow version\n",
    "\n",
    "SEQ_LEN = 50"
   ]
  },
  {
   "cell_type": "markdown",
   "metadata": {},
   "source": [
    "### Define the project, Bucket and Region and set them."
   ]
  },
  {
   "cell_type": "code",
   "execution_count": 3,
   "metadata": {},
   "outputs": [],
   "source": [
    "# for bash\n",
    "os.environ['PROJECT'] = PROJECT\n",
    "os.environ['BUCKET'] = BUCKET\n",
    "os.environ['REGION'] = REGION"
   ]
  },
  {
   "cell_type": "code",
   "execution_count": 4,
   "metadata": {},
   "outputs": [
    {
     "name": "stderr",
     "output_type": "stream",
     "text": [
      "Updated property [core/project].\n",
      "Updated property [compute/region].\n"
     ]
    }
   ],
   "source": [
    "%%bash\n",
    "gcloud config set project $PROJECT\n",
    "gcloud config set compute/region $REGION"
   ]
  },
  {
   "cell_type": "code",
   "execution_count": 5,
   "metadata": {},
   "outputs": [
    {
     "name": "stdout",
     "output_type": "stream",
     "text": [
      "/content/datalab/energy_forcasing/Sarah\n",
      "ARIMA.csv\t\t data\t\t  train_cloud_model.ipynb\n",
      "BIG_q.ipynb\t\t Energy_ts\t  trained\n",
      "build_local_model.ipynb  hyperparam.yaml  train_local_model.ipynb\n",
      "Build_model_task.ipynb\t sarah_data.csv\n",
      "CNN_W2P_model\t\t test.json\n"
     ]
    }
   ],
   "source": [
    "! pwd\n",
    "! ls"
   ]
  },
  {
   "cell_type": "code",
   "execution_count": 6,
   "metadata": {},
   "outputs": [
    {
     "data": {
      "text/html": [
       "<div>\n",
       "<style scoped>\n",
       "    .dataframe tbody tr th:only-of-type {\n",
       "        vertical-align: middle;\n",
       "    }\n",
       "\n",
       "    .dataframe tbody tr th {\n",
       "        vertical-align: top;\n",
       "    }\n",
       "\n",
       "    .dataframe thead th {\n",
       "        text-align: right;\n",
       "    }\n",
       "</style>\n",
       "<table border=\"1\" class=\"dataframe\">\n",
       "  <thead>\n",
       "    <tr style=\"text-align: right;\">\n",
       "      <th></th>\n",
       "      <th>wind_speed_100m</th>\n",
       "      <th>wind_direction_100m</th>\n",
       "      <th>temperature</th>\n",
       "      <th>air_density</th>\n",
       "      <th>pressure</th>\n",
       "      <th>precipitation</th>\n",
       "      <th>wind_gust</th>\n",
       "      <th>radiation</th>\n",
       "      <th>wind_speed</th>\n",
       "      <th>wind_direction</th>\n",
       "      <th>price</th>\n",
       "    </tr>\n",
       "  </thead>\n",
       "  <tbody>\n",
       "    <tr>\n",
       "      <th>count</th>\n",
       "      <td>6646.000000</td>\n",
       "      <td>6646.000000</td>\n",
       "      <td>6646.000000</td>\n",
       "      <td>6646.000000</td>\n",
       "      <td>6646.000000</td>\n",
       "      <td>6646.000000</td>\n",
       "      <td>6646.000000</td>\n",
       "      <td>6646.000000</td>\n",
       "      <td>6646.000000</td>\n",
       "      <td>6646.000000</td>\n",
       "      <td>6646.000000</td>\n",
       "    </tr>\n",
       "    <tr>\n",
       "      <th>mean</th>\n",
       "      <td>4.799901</td>\n",
       "      <td>189.582975</td>\n",
       "      <td>14.920355</td>\n",
       "      <td>1.132338</td>\n",
       "      <td>935.286695</td>\n",
       "      <td>0.117364</td>\n",
       "      <td>4.872509</td>\n",
       "      <td>225.250182</td>\n",
       "      <td>3.220986</td>\n",
       "      <td>189.082629</td>\n",
       "      <td>50.153506</td>\n",
       "    </tr>\n",
       "    <tr>\n",
       "      <th>std</th>\n",
       "      <td>1.964154</td>\n",
       "      <td>58.126639</td>\n",
       "      <td>9.626527</td>\n",
       "      <td>0.039333</td>\n",
       "      <td>6.105083</td>\n",
       "      <td>0.245561</td>\n",
       "      <td>2.428587</td>\n",
       "      <td>266.299815</td>\n",
       "      <td>1.319704</td>\n",
       "      <td>56.712796</td>\n",
       "      <td>12.448392</td>\n",
       "    </tr>\n",
       "    <tr>\n",
       "      <th>min</th>\n",
       "      <td>1.372222</td>\n",
       "      <td>47.883333</td>\n",
       "      <td>-6.044444</td>\n",
       "      <td>1.036111</td>\n",
       "      <td>913.800000</td>\n",
       "      <td>0.000000</td>\n",
       "      <td>1.194444</td>\n",
       "      <td>0.000000</td>\n",
       "      <td>0.855556</td>\n",
       "      <td>50.538889</td>\n",
       "      <td>4.000000</td>\n",
       "    </tr>\n",
       "    <tr>\n",
       "      <th>25%</th>\n",
       "      <td>3.534722</td>\n",
       "      <td>142.598611</td>\n",
       "      <td>7.540278</td>\n",
       "      <td>1.106111</td>\n",
       "      <td>932.034722</td>\n",
       "      <td>0.000000</td>\n",
       "      <td>3.284722</td>\n",
       "      <td>0.000000</td>\n",
       "      <td>2.294444</td>\n",
       "      <td>143.750000</td>\n",
       "      <td>43.000000</td>\n",
       "    </tr>\n",
       "    <tr>\n",
       "      <th>50%</th>\n",
       "      <td>4.477778</td>\n",
       "      <td>191.908333</td>\n",
       "      <td>14.213889</td>\n",
       "      <td>1.131667</td>\n",
       "      <td>934.761111</td>\n",
       "      <td>0.000000</td>\n",
       "      <td>4.327778</td>\n",
       "      <td>95.000000</td>\n",
       "      <td>2.961111</td>\n",
       "      <td>191.208333</td>\n",
       "      <td>50.890000</td>\n",
       "    </tr>\n",
       "    <tr>\n",
       "      <th>75%</th>\n",
       "      <td>5.544444</td>\n",
       "      <td>232.043056</td>\n",
       "      <td>21.062500</td>\n",
       "      <td>1.160556</td>\n",
       "      <td>937.805556</td>\n",
       "      <td>0.100000</td>\n",
       "      <td>5.627778</td>\n",
       "      <td>416.422222</td>\n",
       "      <td>3.850000</td>\n",
       "      <td>230.865278</td>\n",
       "      <td>59.950000</td>\n",
       "    </tr>\n",
       "    <tr>\n",
       "      <th>max</th>\n",
       "      <td>15.044444</td>\n",
       "      <td>329.544444</td>\n",
       "      <td>41.044444</td>\n",
       "      <td>1.229444</td>\n",
       "      <td>961.238889</td>\n",
       "      <td>1.700000</td>\n",
       "      <td>16.705556</td>\n",
       "      <td>954.288889</td>\n",
       "      <td>9.738889</td>\n",
       "      <td>327.711111</td>\n",
       "      <td>85.050000</td>\n",
       "    </tr>\n",
       "  </tbody>\n",
       "</table>\n",
       "</div>"
      ],
      "text/plain": [
       "       wind_speed_100m  wind_direction_100m  temperature  air_density  \\\n",
       "count      6646.000000          6646.000000  6646.000000  6646.000000   \n",
       "mean          4.799901           189.582975    14.920355     1.132338   \n",
       "std           1.964154            58.126639     9.626527     0.039333   \n",
       "min           1.372222            47.883333    -6.044444     1.036111   \n",
       "25%           3.534722           142.598611     7.540278     1.106111   \n",
       "50%           4.477778           191.908333    14.213889     1.131667   \n",
       "75%           5.544444           232.043056    21.062500     1.160556   \n",
       "max          15.044444           329.544444    41.044444     1.229444   \n",
       "\n",
       "          pressure  precipitation    wind_gust    radiation   wind_speed  \\\n",
       "count  6646.000000    6646.000000  6646.000000  6646.000000  6646.000000   \n",
       "mean    935.286695       0.117364     4.872509   225.250182     3.220986   \n",
       "std       6.105083       0.245561     2.428587   266.299815     1.319704   \n",
       "min     913.800000       0.000000     1.194444     0.000000     0.855556   \n",
       "25%     932.034722       0.000000     3.284722     0.000000     2.294444   \n",
       "50%     934.761111       0.000000     4.327778    95.000000     2.961111   \n",
       "75%     937.805556       0.100000     5.627778   416.422222     3.850000   \n",
       "max     961.238889       1.700000    16.705556   954.288889     9.738889   \n",
       "\n",
       "       wind_direction        price  \n",
       "count     6646.000000  6646.000000  \n",
       "mean       189.082629    50.153506  \n",
       "std         56.712796    12.448392  \n",
       "min         50.538889     4.000000  \n",
       "25%        143.750000    43.000000  \n",
       "50%        191.208333    50.890000  \n",
       "75%        230.865278    59.950000  \n",
       "max        327.711111    85.050000  "
      ]
     },
     "execution_count": 6,
     "metadata": {},
     "output_type": "execute_result"
    }
   ],
   "source": [
    "CSV_COLUMNS = ['prediction_date', 'wind_speed_100m', \n",
    "  'wind_direction_100m', \n",
    "  'temperature', \n",
    "  'air_density',\n",
    "  'pressure', 'precipitation', 'wind_gust', 'radiation', \n",
    "  'wind_speed', 'wind_direction', 'price']\n",
    "FEATURES = CSV_COLUMNS[1:len(CSV_COLUMNS) - 1]\n",
    "LABEL = CSV_COLUMNS[0]\n",
    "\n",
    "df5 = pd.read_csv('/content/datalab/energy_forcasing/Sarah/sarah_data.csv', header = None, names = CSV_COLUMNS)\n",
    "df5.describe()"
   ]
  },
  {
   "cell_type": "code",
   "execution_count": 7,
   "metadata": {},
   "outputs": [
    {
     "data": {
      "text/html": [
       "<div>\n",
       "<style scoped>\n",
       "    .dataframe tbody tr th:only-of-type {\n",
       "        vertical-align: middle;\n",
       "    }\n",
       "\n",
       "    .dataframe tbody tr th {\n",
       "        vertical-align: top;\n",
       "    }\n",
       "\n",
       "    .dataframe thead th {\n",
       "        text-align: right;\n",
       "    }\n",
       "</style>\n",
       "<table border=\"1\" class=\"dataframe\">\n",
       "  <thead>\n",
       "    <tr style=\"text-align: right;\">\n",
       "      <th></th>\n",
       "      <th>0</th>\n",
       "      <th>1</th>\n",
       "      <th>2</th>\n",
       "      <th>3</th>\n",
       "      <th>4</th>\n",
       "      <th>5</th>\n",
       "      <th>6</th>\n",
       "      <th>7</th>\n",
       "      <th>8</th>\n",
       "      <th>9</th>\n",
       "      <th>...</th>\n",
       "      <th>40</th>\n",
       "      <th>41</th>\n",
       "      <th>42</th>\n",
       "      <th>43</th>\n",
       "      <th>44</th>\n",
       "      <th>45</th>\n",
       "      <th>46</th>\n",
       "      <th>47</th>\n",
       "      <th>48</th>\n",
       "      <th>49</th>\n",
       "    </tr>\n",
       "  </thead>\n",
       "  <tbody>\n",
       "    <tr>\n",
       "      <th>0</th>\n",
       "      <td>0.948333</td>\n",
       "      <td>0.942500</td>\n",
       "      <td>0.912333</td>\n",
       "      <td>0.500000</td>\n",
       "      <td>0.781000</td>\n",
       "      <td>0.654167</td>\n",
       "      <td>0.808333</td>\n",
       "      <td>0.724833</td>\n",
       "      <td>0.992833</td>\n",
       "      <td>0.668833</td>\n",
       "      <td>...</td>\n",
       "      <td>0.658333</td>\n",
       "      <td>0.500000</td>\n",
       "      <td>1.085000</td>\n",
       "      <td>0.953333</td>\n",
       "      <td>0.500000</td>\n",
       "      <td>0.846000</td>\n",
       "      <td>0.784667</td>\n",
       "      <td>0.751667</td>\n",
       "      <td>0.247333</td>\n",
       "      <td>1.001667</td>\n",
       "    </tr>\n",
       "    <tr>\n",
       "      <th>1</th>\n",
       "      <td>0.942500</td>\n",
       "      <td>0.912333</td>\n",
       "      <td>0.500000</td>\n",
       "      <td>0.781000</td>\n",
       "      <td>0.654167</td>\n",
       "      <td>0.808333</td>\n",
       "      <td>0.724833</td>\n",
       "      <td>0.992833</td>\n",
       "      <td>0.668833</td>\n",
       "      <td>0.750000</td>\n",
       "      <td>...</td>\n",
       "      <td>0.500000</td>\n",
       "      <td>1.085000</td>\n",
       "      <td>0.953333</td>\n",
       "      <td>0.500000</td>\n",
       "      <td>0.846000</td>\n",
       "      <td>0.784667</td>\n",
       "      <td>0.751667</td>\n",
       "      <td>0.247333</td>\n",
       "      <td>1.001667</td>\n",
       "      <td>1.008333</td>\n",
       "    </tr>\n",
       "    <tr>\n",
       "      <th>2</th>\n",
       "      <td>0.912333</td>\n",
       "      <td>0.500000</td>\n",
       "      <td>0.781000</td>\n",
       "      <td>0.654167</td>\n",
       "      <td>0.808333</td>\n",
       "      <td>0.724833</td>\n",
       "      <td>0.992833</td>\n",
       "      <td>0.668833</td>\n",
       "      <td>0.750000</td>\n",
       "      <td>0.830833</td>\n",
       "      <td>...</td>\n",
       "      <td>1.085000</td>\n",
       "      <td>0.953333</td>\n",
       "      <td>0.500000</td>\n",
       "      <td>0.846000</td>\n",
       "      <td>0.784667</td>\n",
       "      <td>0.751667</td>\n",
       "      <td>0.247333</td>\n",
       "      <td>1.001667</td>\n",
       "      <td>1.008333</td>\n",
       "      <td>0.790500</td>\n",
       "    </tr>\n",
       "    <tr>\n",
       "      <th>3</th>\n",
       "      <td>0.500000</td>\n",
       "      <td>0.781000</td>\n",
       "      <td>0.654167</td>\n",
       "      <td>0.808333</td>\n",
       "      <td>0.724833</td>\n",
       "      <td>0.992833</td>\n",
       "      <td>0.668833</td>\n",
       "      <td>0.750000</td>\n",
       "      <td>0.830833</td>\n",
       "      <td>0.834500</td>\n",
       "      <td>...</td>\n",
       "      <td>0.953333</td>\n",
       "      <td>0.500000</td>\n",
       "      <td>0.846000</td>\n",
       "      <td>0.784667</td>\n",
       "      <td>0.751667</td>\n",
       "      <td>0.247333</td>\n",
       "      <td>1.001667</td>\n",
       "      <td>1.008333</td>\n",
       "      <td>0.790500</td>\n",
       "      <td>1.124667</td>\n",
       "    </tr>\n",
       "    <tr>\n",
       "      <th>4</th>\n",
       "      <td>0.781000</td>\n",
       "      <td>0.654167</td>\n",
       "      <td>0.808333</td>\n",
       "      <td>0.724833</td>\n",
       "      <td>0.992833</td>\n",
       "      <td>0.668833</td>\n",
       "      <td>0.750000</td>\n",
       "      <td>0.830833</td>\n",
       "      <td>0.834500</td>\n",
       "      <td>0.816667</td>\n",
       "      <td>...</td>\n",
       "      <td>0.500000</td>\n",
       "      <td>0.846000</td>\n",
       "      <td>0.784667</td>\n",
       "      <td>0.751667</td>\n",
       "      <td>0.247333</td>\n",
       "      <td>1.001667</td>\n",
       "      <td>1.008333</td>\n",
       "      <td>0.790500</td>\n",
       "      <td>1.124667</td>\n",
       "      <td>0.492167</td>\n",
       "    </tr>\n",
       "  </tbody>\n",
       "</table>\n",
       "<p>5 rows × 50 columns</p>\n",
       "</div>"
      ],
      "text/plain": [
       "         0         1         2         3         4         5         6   \\\n",
       "0  0.948333  0.942500  0.912333  0.500000  0.781000  0.654167  0.808333   \n",
       "1  0.942500  0.912333  0.500000  0.781000  0.654167  0.808333  0.724833   \n",
       "2  0.912333  0.500000  0.781000  0.654167  0.808333  0.724833  0.992833   \n",
       "3  0.500000  0.781000  0.654167  0.808333  0.724833  0.992833  0.668833   \n",
       "4  0.781000  0.654167  0.808333  0.724833  0.992833  0.668833  0.750000   \n",
       "\n",
       "         7         8         9     ...           40        41        42  \\\n",
       "0  0.724833  0.992833  0.668833    ...     0.658333  0.500000  1.085000   \n",
       "1  0.992833  0.668833  0.750000    ...     0.500000  1.085000  0.953333   \n",
       "2  0.668833  0.750000  0.830833    ...     1.085000  0.953333  0.500000   \n",
       "3  0.750000  0.830833  0.834500    ...     0.953333  0.500000  0.846000   \n",
       "4  0.830833  0.834500  0.816667    ...     0.500000  0.846000  0.784667   \n",
       "\n",
       "         43        44        45        46        47        48        49  \n",
       "0  0.953333  0.500000  0.846000  0.784667  0.751667  0.247333  1.001667  \n",
       "1  0.500000  0.846000  0.784667  0.751667  0.247333  1.001667  1.008333  \n",
       "2  0.846000  0.784667  0.751667  0.247333  1.001667  1.008333  0.790500  \n",
       "3  0.784667  0.751667  0.247333  1.001667  1.008333  0.790500  1.124667  \n",
       "4  0.751667  0.247333  1.001667  1.008333  0.790500  1.124667  0.492167  \n",
       "\n",
       "[5 rows x 50 columns]"
      ]
     },
     "execution_count": 7,
     "metadata": {},
     "output_type": "execute_result"
    }
   ],
   "source": [
    "df2 = pd.read_csv('data/CNN_W2P_model/train-1.csv', header = None)\n",
    "df2.head()"
   ]
  },
  {
   "cell_type": "code",
   "execution_count": 8,
   "metadata": {},
   "outputs": [
    {
     "data": {
      "text/html": [
       "<div>\n",
       "<style scoped>\n",
       "    .dataframe tbody tr th:only-of-type {\n",
       "        vertical-align: middle;\n",
       "    }\n",
       "\n",
       "    .dataframe tbody tr th {\n",
       "        vertical-align: top;\n",
       "    }\n",
       "\n",
       "    .dataframe thead th {\n",
       "        text-align: right;\n",
       "    }\n",
       "</style>\n",
       "<table border=\"1\" class=\"dataframe\">\n",
       "  <thead>\n",
       "    <tr style=\"text-align: right;\">\n",
       "      <th></th>\n",
       "      <th>0</th>\n",
       "      <th>1</th>\n",
       "      <th>2</th>\n",
       "      <th>3</th>\n",
       "      <th>4</th>\n",
       "      <th>5</th>\n",
       "      <th>6</th>\n",
       "      <th>7</th>\n",
       "      <th>8</th>\n",
       "      <th>9</th>\n",
       "      <th>...</th>\n",
       "      <th>40</th>\n",
       "      <th>41</th>\n",
       "      <th>42</th>\n",
       "      <th>43</th>\n",
       "      <th>44</th>\n",
       "      <th>45</th>\n",
       "      <th>46</th>\n",
       "      <th>47</th>\n",
       "      <th>48</th>\n",
       "      <th>49</th>\n",
       "    </tr>\n",
       "  </thead>\n",
       "  <tbody>\n",
       "    <tr>\n",
       "      <th>count</th>\n",
       "      <td>2638.000000</td>\n",
       "      <td>2638.000000</td>\n",
       "      <td>2638.000000</td>\n",
       "      <td>2638.000000</td>\n",
       "      <td>2638.000000</td>\n",
       "      <td>2638.000000</td>\n",
       "      <td>2638.000000</td>\n",
       "      <td>2638.000000</td>\n",
       "      <td>2638.000000</td>\n",
       "      <td>2638.000000</td>\n",
       "      <td>...</td>\n",
       "      <td>2638.000000</td>\n",
       "      <td>2638.000000</td>\n",
       "      <td>2638.000000</td>\n",
       "      <td>2638.000000</td>\n",
       "      <td>2638.000000</td>\n",
       "      <td>2638.000000</td>\n",
       "      <td>2638.000000</td>\n",
       "      <td>2638.000000</td>\n",
       "      <td>2638.000000</td>\n",
       "      <td>2638.000000</td>\n",
       "    </tr>\n",
       "    <tr>\n",
       "      <th>mean</th>\n",
       "      <td>0.827618</td>\n",
       "      <td>0.827851</td>\n",
       "      <td>0.827685</td>\n",
       "      <td>0.827717</td>\n",
       "      <td>0.827745</td>\n",
       "      <td>0.827840</td>\n",
       "      <td>0.827769</td>\n",
       "      <td>0.827687</td>\n",
       "      <td>0.827698</td>\n",
       "      <td>0.827717</td>\n",
       "      <td>...</td>\n",
       "      <td>0.829831</td>\n",
       "      <td>0.829818</td>\n",
       "      <td>0.829786</td>\n",
       "      <td>0.829823</td>\n",
       "      <td>0.829786</td>\n",
       "      <td>0.829683</td>\n",
       "      <td>0.829584</td>\n",
       "      <td>0.829590</td>\n",
       "      <td>0.829577</td>\n",
       "      <td>0.829446</td>\n",
       "    </tr>\n",
       "    <tr>\n",
       "      <th>std</th>\n",
       "      <td>0.217746</td>\n",
       "      <td>0.217454</td>\n",
       "      <td>0.217529</td>\n",
       "      <td>0.217534</td>\n",
       "      <td>0.217526</td>\n",
       "      <td>0.217463</td>\n",
       "      <td>0.217445</td>\n",
       "      <td>0.217395</td>\n",
       "      <td>0.217400</td>\n",
       "      <td>0.217403</td>\n",
       "      <td>...</td>\n",
       "      <td>0.215509</td>\n",
       "      <td>0.215509</td>\n",
       "      <td>0.215515</td>\n",
       "      <td>0.215481</td>\n",
       "      <td>0.215470</td>\n",
       "      <td>0.215397</td>\n",
       "      <td>0.215381</td>\n",
       "      <td>0.215381</td>\n",
       "      <td>0.215382</td>\n",
       "      <td>0.215333</td>\n",
       "    </tr>\n",
       "    <tr>\n",
       "      <th>min</th>\n",
       "      <td>0.066667</td>\n",
       "      <td>0.066667</td>\n",
       "      <td>0.066667</td>\n",
       "      <td>0.066667</td>\n",
       "      <td>0.066667</td>\n",
       "      <td>0.066667</td>\n",
       "      <td>0.066667</td>\n",
       "      <td>0.066667</td>\n",
       "      <td>0.066667</td>\n",
       "      <td>0.066667</td>\n",
       "      <td>...</td>\n",
       "      <td>0.066667</td>\n",
       "      <td>0.066667</td>\n",
       "      <td>0.066667</td>\n",
       "      <td>0.066667</td>\n",
       "      <td>0.066667</td>\n",
       "      <td>0.066667</td>\n",
       "      <td>0.066667</td>\n",
       "      <td>0.066667</td>\n",
       "      <td>0.066667</td>\n",
       "      <td>0.066667</td>\n",
       "    </tr>\n",
       "    <tr>\n",
       "      <th>25%</th>\n",
       "      <td>0.707250</td>\n",
       "      <td>0.707542</td>\n",
       "      <td>0.707250</td>\n",
       "      <td>0.707250</td>\n",
       "      <td>0.707250</td>\n",
       "      <td>0.707542</td>\n",
       "      <td>0.707542</td>\n",
       "      <td>0.707542</td>\n",
       "      <td>0.707542</td>\n",
       "      <td>0.707542</td>\n",
       "      <td>...</td>\n",
       "      <td>0.710625</td>\n",
       "      <td>0.710625</td>\n",
       "      <td>0.710625</td>\n",
       "      <td>0.710625</td>\n",
       "      <td>0.710625</td>\n",
       "      <td>0.710625</td>\n",
       "      <td>0.710625</td>\n",
       "      <td>0.710625</td>\n",
       "      <td>0.710625</td>\n",
       "      <td>0.710625</td>\n",
       "    </tr>\n",
       "    <tr>\n",
       "      <th>50%</th>\n",
       "      <td>0.842167</td>\n",
       "      <td>0.842833</td>\n",
       "      <td>0.842167</td>\n",
       "      <td>0.842833</td>\n",
       "      <td>0.842833</td>\n",
       "      <td>0.842833</td>\n",
       "      <td>0.842167</td>\n",
       "      <td>0.842167</td>\n",
       "      <td>0.842167</td>\n",
       "      <td>0.842833</td>\n",
       "      <td>...</td>\n",
       "      <td>0.844917</td>\n",
       "      <td>0.844833</td>\n",
       "      <td>0.844833</td>\n",
       "      <td>0.844833</td>\n",
       "      <td>0.844833</td>\n",
       "      <td>0.844833</td>\n",
       "      <td>0.844167</td>\n",
       "      <td>0.844833</td>\n",
       "      <td>0.844833</td>\n",
       "      <td>0.844167</td>\n",
       "    </tr>\n",
       "    <tr>\n",
       "      <th>75%</th>\n",
       "      <td>0.995667</td>\n",
       "      <td>0.995667</td>\n",
       "      <td>0.995667</td>\n",
       "      <td>0.995667</td>\n",
       "      <td>0.995667</td>\n",
       "      <td>0.995667</td>\n",
       "      <td>0.995667</td>\n",
       "      <td>0.995125</td>\n",
       "      <td>0.995125</td>\n",
       "      <td>0.995125</td>\n",
       "      <td>...</td>\n",
       "      <td>0.995000</td>\n",
       "      <td>0.995000</td>\n",
       "      <td>0.995000</td>\n",
       "      <td>0.995000</td>\n",
       "      <td>0.995000</td>\n",
       "      <td>0.994958</td>\n",
       "      <td>0.994833</td>\n",
       "      <td>0.994833</td>\n",
       "      <td>0.994833</td>\n",
       "      <td>0.994833</td>\n",
       "    </tr>\n",
       "    <tr>\n",
       "      <th>max</th>\n",
       "      <td>1.417500</td>\n",
       "      <td>1.417500</td>\n",
       "      <td>1.417500</td>\n",
       "      <td>1.417500</td>\n",
       "      <td>1.417500</td>\n",
       "      <td>1.417500</td>\n",
       "      <td>1.417500</td>\n",
       "      <td>1.417500</td>\n",
       "      <td>1.417500</td>\n",
       "      <td>1.417500</td>\n",
       "      <td>...</td>\n",
       "      <td>1.417500</td>\n",
       "      <td>1.417500</td>\n",
       "      <td>1.417500</td>\n",
       "      <td>1.417500</td>\n",
       "      <td>1.417500</td>\n",
       "      <td>1.417500</td>\n",
       "      <td>1.417500</td>\n",
       "      <td>1.417500</td>\n",
       "      <td>1.417500</td>\n",
       "      <td>1.417500</td>\n",
       "    </tr>\n",
       "  </tbody>\n",
       "</table>\n",
       "<p>8 rows × 50 columns</p>\n",
       "</div>"
      ],
      "text/plain": [
       "                0            1            2            3            4   \\\n",
       "count  2638.000000  2638.000000  2638.000000  2638.000000  2638.000000   \n",
       "mean      0.827618     0.827851     0.827685     0.827717     0.827745   \n",
       "std       0.217746     0.217454     0.217529     0.217534     0.217526   \n",
       "min       0.066667     0.066667     0.066667     0.066667     0.066667   \n",
       "25%       0.707250     0.707542     0.707250     0.707250     0.707250   \n",
       "50%       0.842167     0.842833     0.842167     0.842833     0.842833   \n",
       "75%       0.995667     0.995667     0.995667     0.995667     0.995667   \n",
       "max       1.417500     1.417500     1.417500     1.417500     1.417500   \n",
       "\n",
       "                5            6            7            8            9   \\\n",
       "count  2638.000000  2638.000000  2638.000000  2638.000000  2638.000000   \n",
       "mean      0.827840     0.827769     0.827687     0.827698     0.827717   \n",
       "std       0.217463     0.217445     0.217395     0.217400     0.217403   \n",
       "min       0.066667     0.066667     0.066667     0.066667     0.066667   \n",
       "25%       0.707542     0.707542     0.707542     0.707542     0.707542   \n",
       "50%       0.842833     0.842167     0.842167     0.842167     0.842833   \n",
       "75%       0.995667     0.995667     0.995125     0.995125     0.995125   \n",
       "max       1.417500     1.417500     1.417500     1.417500     1.417500   \n",
       "\n",
       "          ...                40           41           42           43  \\\n",
       "count     ...       2638.000000  2638.000000  2638.000000  2638.000000   \n",
       "mean      ...          0.829831     0.829818     0.829786     0.829823   \n",
       "std       ...          0.215509     0.215509     0.215515     0.215481   \n",
       "min       ...          0.066667     0.066667     0.066667     0.066667   \n",
       "25%       ...          0.710625     0.710625     0.710625     0.710625   \n",
       "50%       ...          0.844917     0.844833     0.844833     0.844833   \n",
       "75%       ...          0.995000     0.995000     0.995000     0.995000   \n",
       "max       ...          1.417500     1.417500     1.417500     1.417500   \n",
       "\n",
       "                44           45           46           47           48  \\\n",
       "count  2638.000000  2638.000000  2638.000000  2638.000000  2638.000000   \n",
       "mean      0.829786     0.829683     0.829584     0.829590     0.829577   \n",
       "std       0.215470     0.215397     0.215381     0.215381     0.215382   \n",
       "min       0.066667     0.066667     0.066667     0.066667     0.066667   \n",
       "25%       0.710625     0.710625     0.710625     0.710625     0.710625   \n",
       "50%       0.844833     0.844833     0.844167     0.844833     0.844833   \n",
       "75%       0.995000     0.994958     0.994833     0.994833     0.994833   \n",
       "max       1.417500     1.417500     1.417500     1.417500     1.417500   \n",
       "\n",
       "                49  \n",
       "count  2638.000000  \n",
       "mean      0.829446  \n",
       "std       0.215333  \n",
       "min       0.066667  \n",
       "25%       0.710625  \n",
       "50%       0.844167  \n",
       "75%       0.994833  \n",
       "max       1.417500  \n",
       "\n",
       "[8 rows x 50 columns]"
      ]
     },
     "execution_count": 8,
     "metadata": {},
     "output_type": "execute_result"
    }
   ],
   "source": [
    "df3 = pd.read_csv('data/CNN_W2P_model/valid-1.csv', header = None) #, names = CSV_COLUMNS)\n",
    "df3.describe()"
   ]
  },
  {
   "cell_type": "markdown",
   "metadata": {},
   "source": [
    "This is where youre model lives and can be pushed out to the cloud."
   ]
  },
  {
   "cell_type": "code",
   "execution_count": 9,
   "metadata": {},
   "outputs": [
    {
     "name": "stdout",
     "output_type": "stream",
     "text": [
      "__init__.py  __init__.pyc  model.py  model.pyc\ttask.py\r\n"
     ]
    }
   ],
   "source": [
    "! ls /content/datalab/energy_forcasing/Sarah/CNN_W2P_model/trainer"
   ]
  },
  {
   "cell_type": "code",
   "execution_count": 10,
   "metadata": {},
   "outputs": [
    {
     "name": "stdout",
     "output_type": "stream",
     "text": [
      "\u001b[0m\u001b[01;34m1537820821\u001b[0m/\r\n"
     ]
    }
   ],
   "source": [
    "ls /content/datalab/energy_forcasing/Sarah/CNN_W2P_model/trained/cnn/export/exporter/"
   ]
  },
  {
   "cell_type": "markdown",
   "metadata": {},
   "source": [
    "### Push out the training and evaluation data for the cloud\n",
    "You can check to make sure the files were moved by looking in the \"bucket\" or \"storage\" and looking for the data files (.csv's in our case)."
   ]
  },
  {
   "cell_type": "code",
   "execution_count": null,
   "metadata": {},
   "outputs": [],
   "source": [
    "import shutil\n",
    "shutil.rmtree('/data/CNN_W2P_model ', ignore_errors=True)\n",
    "os.makedirs('/data/CNN_W2P_model/')"
   ]
  },
  {
   "cell_type": "code",
   "execution_count": null,
   "metadata": {},
   "outputs": [],
   "source": [
    "%bash\n",
    "gsutil -m rm -rf gs://${BUCKET}/CNN_W2P_model/*\n",
    "gsutil -m cp data/CNN_W2P_model/*.csv gs://${BUCKET}/CNN_W2P_model"
   ]
  },
  {
   "cell_type": "markdown",
   "metadata": {},
   "source": [
    "### Push out to the cloud\n",
    "After you run the code below - you can watch the process kick off and run on \"ML Engine\""
   ]
  },
  {
   "cell_type": "code",
   "execution_count": null,
   "metadata": {},
   "outputs": [],
   "source": [
    "%%bash\n",
    "for MODEL in linear dnn cnn rnn rnn2  ; do # rnnN\n",
    "  OUTDIR=gs://${BUCKET}/CNN_W2P_model/${MODEL}\n",
    "  JOBNAME=CNN_W2P_model_${MODEL}$(date -u +%y%m%d_%H%M%S)\n",
    "  SEQ_LEN=50\n",
    "  REGION=us-central1\n",
    "  gsutil -m rm -rf $OUTDIR\n",
    "  echo $JOBNAME\n",
    "  gcloud ml-engine jobs submit training $JOBNAME \\\n",
    "     --region=$REGION \\\n",
    "     --module-name=trainer.task \\\n",
    "     --package-path=${PWD}/CNN_W2P_model/trainer \\\n",
    "     --job-dir=$OUTDIR \\\n",
    "     --scale-tier=PREMIUM_1 \\\n",
    "     --runtime-version=$TFVERSION \\\n",
    "     -- \\\n",
    "     --train_data_path=\"gs://${BUCKET}/CNN_W2P_model/train-1.csv\" \\\n",
    "     --eval_data_path=\"gs://${BUCKET}/CNN_W2P_model/valid-1.csv\"  \\\n",
    "     --output_dir=$OUTDIR \\\n",
    "     --train_steps=2000 --sequence_length=$SEQ_LEN --model=$MODEL\n",
    "done\n"
   ]
  },
  {
   "cell_type": "markdown",
   "metadata": {},
   "source": [
    "### Tensor Boards are finky and not always willing to run.  You can try in the window - or go back to the cloud shell and run the \"command line access for TB.\""
   ]
  },
  {
   "cell_type": "code",
   "execution_count": null,
   "metadata": {},
   "outputs": [],
   "source": [
    "from google.datalab.ml import TensorBoard\n",
    "TensorBoard().start('gs://{}/CNN_W2P_model'.format(BUCKET))"
   ]
  },
  {
   "cell_type": "code",
   "execution_count": null,
   "metadata": {},
   "outputs": [],
   "source": [
    "for pid in TensorBoard.list()['pid']:\n",
    "  TensorBoard().stop(pid)\n",
    "  print 'Stopped TensorBoard with pid {}'.format(pid)"
   ]
  },
  {
   "cell_type": "code",
   "execution_count": null,
   "metadata": {},
   "outputs": [],
   "source": [
    "## command line access of the TB\n",
    "print('tensorboard --logdir=gs://{}/CNN_W2P_model --port=8083'.format(BUCKET))"
   ]
  },
  {
   "cell_type": "markdown",
   "metadata": {},
   "source": [
    "## Deploy the model"
   ]
  },
  {
   "cell_type": "markdown",
   "metadata": {},
   "source": [
    "### Convert the data into something that can be read into the model, so strings that are 49 long where the 50th price is perdicted."
   ]
  },
  {
   "cell_type": "code",
   "execution_count": 19,
   "metadata": {},
   "outputs": [],
   "source": [
    "MODEL_NAME=\"CNN_W2P_model\" ## you can name it w/e you want\n",
    "MODEL_VERSION=\"ml_on_gcp\" ## you can name it w/e you want\n",
    "MODEL_TYPE = \"linear\"\n",
    "MODEL_LOCATION=\"$(gsutil ls gs://${}/{}/{}/export/exporter/| tail -1)\".format(BUCKET,MODEL_NAME,MODEL_TYPE)"
   ]
  },
  {
   "cell_type": "code",
   "execution_count": 20,
   "metadata": {},
   "outputs": [],
   "source": [
    "os.environ['MODEL_NAME'] = MODEL_NAME\n",
    "os.environ['MODEL_VERSION'] = MODEL_VERSION\n",
    "os.environ['MODEL_TYPE'] = MODEL_TYPE\n",
    "os.environ['MODEL_LOCATION'] = MODEL_LOCATION"
   ]
  },
  {
   "cell_type": "code",
   "execution_count": 21,
   "metadata": {},
   "outputs": [
    {
     "name": "stderr",
     "output_type": "stream",
     "text": [
      "This will delete version [ml_on_gcp]...\n",
      "\n",
      "Do you want to continue (Y/n)?  \n",
      "ERROR: (gcloud.ml-engine.versions.delete) FAILED_PRECONDITION: Field: name Error: Cannot delete the default version unless it is the only version in the model.\n",
      "- '@type': type.googleapis.com/google.rpc.BadRequest\n",
      "  fieldViolations:\n",
      "  - description: Cannot delete the default version unless it is the only version in\n",
      "      the model.\n",
      "    field: name\n"
     ]
    }
   ],
   "source": [
    "# %bash\n",
    "# gcloud ml-engine versions delete ${MODEL_VERSION} --model ${MODEL_NAME}"
   ]
  },
  {
   "cell_type": "code",
   "execution_count": null,
   "metadata": {},
   "outputs": [],
   "source": [
    "# %bash\n",
    "# gcloud ml-engine models delete ${MODEL_NAME}"
   ]
  },
  {
   "cell_type": "code",
   "execution_count": null,
   "metadata": {},
   "outputs": [],
   "source": [
    "%bash\n",
    "gcloud ml-engine models create ${MODEL_NAME} --regions $REGION\n",
    "gcloud ml-engine versions create ${MODEL_VERSION} --model ${MODEL_NAME} --origin ${MODEL_LOCATION} --runtime-version $TFVERSION --enable-logging"
   ]
  },
  {
   "cell_type": "code",
   "execution_count": 22,
   "metadata": {},
   "outputs": [
    {
     "name": "stdout",
     "output_type": "stream",
     "text": [
      "$(gsutil ls gs://$sarah-bucket/energy_price_forecast/linear/export/exporter/| tail -1)\n"
     ]
    }
   ],
   "source": [
    "print(MODEL_LOCATION)"
   ]
  },
  {
   "cell_type": "markdown",
   "metadata": {},
   "source": [
    "Make data to feed to model"
   ]
  },
  {
   "cell_type": "code",
   "execution_count": 31,
   "metadata": {},
   "outputs": [],
   "source": [
    "def to_csv(filename, start, N, J):\n",
    "  with open(filename, 'w') as ofp:\n",
    "    for ii in range(start, N):\n",
    "      # nn = int(round(np.random.uniform(low = 0, high = 6466-J),0))\n",
    "      seq = (df5.price[(ii):(ii+J)]/60) ## trade nn for ii to make an in seq dataset instead of random\n",
    "      line = \",\".join(map(str, seq))\n",
    "      ofp.write(line + '\\n')\n",
    "      \n",
    "      if len(seq) != J:\n",
    "        break\n",
    "\n",
    "import os\n",
    "try:\n",
    "  os.makedirs('data/CNN_W2P_model/')\n",
    "except OSError:\n",
    "  pass\n",
    "\n",
    "to_csv('data/CNN_W2P_model/to_model', start = 0, N = 6596, J = 50) #  (6646 - 50) = 6596"
   ]
  },
  {
   "cell_type": "code",
   "execution_count": 33,
   "metadata": {},
   "outputs": [
    {
     "data": {
      "text/plain": [
       "(6597, 49)"
      ]
     },
     "execution_count": 33,
     "metadata": {},
     "output_type": "execute_result"
    }
   ],
   "source": [
    "model_data = pd.read_csv('/content/datalab/energy_forcasing/Sarah/data/CNN_W2P_model/to_model.csv', header = None)\n",
    "model_data.shape"
   ]
  },
  {
   "cell_type": "code",
   "execution_count": null,
   "metadata": {},
   "outputs": [],
   "source": [
    "!pwd\n",
    "!ls"
   ]
  },
  {
   "cell_type": "markdown",
   "metadata": {},
   "source": [
    "### To get the view on the model API go to ML Engine > Models > Model Details "
   ]
  },
  {
   "cell_type": "code",
   "execution_count": 27,
   "metadata": {},
   "outputs": [
    {
     "name": "stdout",
     "output_type": "stream",
     "text": [
      "Overwriting test.json\n"
     ]
    }
   ],
   "source": [
    "%%writefile test.json\n",
    "{\"price\": [0.0, 0.0, 0.0, 0.0, 0.0, 0.0, 0.0, 0.0, 0.0, 0.0, 0.0, 0.0, 0.0, 0.0, 0.0, 0.0, 0.0, 0.0, 0.0, 0.0, 0.0, 0.0, 0.0, 0.0, 0.0, 0.0, 0.0, 0.0, 0.0, 0.0, 0.0, 0.0, 0.0, 0.0, 0.0, 0.0, 0.0, 0.0, 0.0, 0.0, 0.0, 0.0, 0.0, 0.0, 0.0, 0.0, 0.0, 0.0, 0.0]}"
   ]
  },
  {
   "cell_type": "code",
   "execution_count": 24,
   "metadata": {},
   "outputs": [
    {
     "name": "stdout",
     "output_type": "stream",
     "text": [
      "Overwriting test.json\n"
     ]
    }
   ],
   "source": [
    "%%writefile test.json\n",
    "[45.52, 45.24, 43.792, 24.0, 37.488, 31.400000000000002, 38.800000000000004, 34.792, 47.656000000000006, 32.104000000000006, 36.0, 39.88, 40.056000000000004, 39.2, 34.952, 50.42400000000001, 36.472, 42.848000000000006, 30.496, 44.712, 32.128, 52.08, 31.664, 47.88, 44.0, 51.352000000000004, 42.624, 54.879999999999995, 32.800000000000004, 31.400000000000002, 30.680000000000003, 44.608000000000004, 32.256, 50.072, 37.424, 39.88, 47.752, 44.800000000000004, 52.08, 46.952, 31.6, 24.0, 52.08, 45.760000000000005, 24.0, 40.608000000000004, 37.664, 36.080000000000005, 11.872]"
   ]
  },
  {
   "cell_type": "code",
   "execution_count": 28,
   "metadata": {},
   "outputs": [
    {
     "name": "stdout",
     "output_type": "stream",
     "text": [
      "PREDICTED\n",
      "[0.0]\n"
     ]
    }
   ],
   "source": [
    "%bash\n",
    "gcloud ml-engine predict --model CNN_W2P_model  \\\n",
    "                   --version ml_on_gcp \\\n",
    "                   --json-instances test.json"
   ]
  },
  {
   "cell_type": "code",
   "execution_count": 29,
   "metadata": {},
   "outputs": [
    {
     "name": "stdout",
     "output_type": "stream",
     "text": [
      "b'{\"predictions\": [{\"predicted\": [0.0]}]}'\n"
     ]
    }
   ],
   "source": [
    "from oauth2client.client import GoogleCredentials\n",
    "import requests\n",
    "import json\n",
    "\n",
    "token = GoogleCredentials.get_application_default().get_access_token().access_token\n",
    "#print(token)\n",
    "api = 'https://ml.googleapis.com/v1/projects/{}/models/{}/versions/{}:predict' \\\n",
    "         .format(PROJECT, MODEL_NAME, MODEL_VERSION)\n",
    "\n",
    "headers = {'Authorization': 'Bearer ' + token }\n",
    "data = {\n",
    "  'instances': [\n",
    "{'price': [0.0, 0.0, 0.0, 0.0, 0.0, 0.0, 0.0, 0.0, 0.0, 0.0, 0.0, 0.0, 0.0, 0.0, 0.0, 0.0, 0.0, 0.0, 0.0, 0.0, 0.0, 0.0, 0.0, 0.0, 0.0, 0.0, 0.0, 0.0, 0.0, 0.0, 0.0, 0.0, 0.0, 0.0, 0.0, 0.0, 0.0, 0.0, 0.0, 0.0, 0.0, 0.0, 0.0, 0.0, 0.0, 0.0, 0.0, 0.0, 0.0]}\n",
    "  ]\n",
    "}\n",
    "response = requests.post(api, json=data, headers=headers)\n",
    "print(response.content)"
   ]
  },
  {
   "cell_type": "markdown",
   "metadata": {},
   "source": [
    "This will take a few minutes."
   ]
  },
  {
   "cell_type": "code",
   "execution_count": null,
   "metadata": {},
   "outputs": [],
   "source": [
    "result = []\n",
    "for y in range(1,model_data.shape[0]):\n",
    "    raw_prices = model_data.iloc[y]\n",
    "    prices = [float(price) for price in raw_prices]\n",
    "    #print prices\n",
    "    data = {\n",
    "      'instances': [\n",
    "        {\n",
    "          'price': prices\n",
    "        },\n",
    "      ]\n",
    "    }\n",
    "    #print(data)\n",
    "    response = requests.post(api, json=data, headers=headers)\n",
    "    #print y/model_data.shape[0]\n",
    "    forecast = response.json()['predictions'][0]['predicted'][0] ## (df5.price[(nn):(nn+J)])/60 ##response.content[32:-4]\n",
    "    #print (forecast)\n",
    "    result.append(response.content[32:-4])"
   ]
  },
  {
   "cell_type": "code",
   "execution_count": null,
   "metadata": {},
   "outputs": [],
   "source": []
  }
 ],
 "metadata": {
  "kernelspec": {
   "display_name": "Python 3",
   "language": "python",
   "name": "python3"
  },
  "language_info": {
   "codemirror_mode": {
    "name": "ipython",
    "version": 3
   },
   "file_extension": ".py",
   "mimetype": "text/x-python",
   "name": "python",
   "nbconvert_exporter": "python",
   "pygments_lexer": "ipython3",
   "version": "3.5.5"
  }
 },
 "nbformat": 4,
 "nbformat_minor": 2
}
